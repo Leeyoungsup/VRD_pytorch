{
 "cells": [
  {
   "cell_type": "code",
   "execution_count": null,
   "metadata": {},
   "outputs": [],
   "source": [
    "import pandas as pd\n",
    "from glob import glob\n",
    "import numpy as np \n",
    "import json\n",
    "from tqdm.auto import tqdm\n",
    "import random"
   ]
  },
  {
   "cell_type": "code",
   "execution_count": null,
   "metadata": {},
   "outputs": [],
   "source": [
    "label_4_3_list=glob('../../data/4_3/*.json')\n",
    "label_4_1_list=[f.replace('4_3', '4_1') for f in label_4_3_list]\n",
    "label_4_4_list=glob('../../data/4_4/*.json')"
   ]
  },
  {
   "cell_type": "code",
   "execution_count": 40,
   "metadata": {},
   "outputs": [
    {
     "name": "stderr",
     "output_type": "stream",
     "text": [
      "/tmp/ipykernel_425352/290280724.py:4: DeprecationWarning: `np.object` is a deprecated alias for the builtin `object`. To silence this warning, use `object` by itself. Doing this will not modify any behavior and is safe. \n",
      "Deprecated in NumPy 1.20; for more details and guidance: https://numpy.org/devdocs/release/1.20.0-notes.html#deprecations\n",
      "  data_frame=np.empty((len(label_4_3_list),5),dtype=np.object)\n"
     ]
    },
    {
     "data": {
      "application/vnd.jupyter.widget-view+json": {
       "model_id": "2398161b44874962af194f964d1b5a07",
       "version_major": 2,
       "version_minor": 0
      },
      "text/plain": [
       "  0%|          | 0/296702 [00:00<?, ?it/s]"
      ]
     },
     "metadata": {},
     "output_type": "display_data"
    }
   ],
   "source": [
    "data_frame_4_3=pd.DataFrame(columns=['file name','english','korean'])\n",
    "data_frame_4_3_file_list=pd.DataFrame(columns=['file name'])\n",
    "data_frame_4_3_predict=pd.DataFrame(columns=['file name','english','korean','predict_korean','BLEU-1'])\n",
    "data_frame=np.empty((len(label_4_3_list),5),dtype=np.object)\n",
    "count=0\n",
    "for i in tqdm(range(len(label_4_3_list))):\n",
    "    with open(label_4_3_list[i], 'r', encoding='utf-8-sig') as f:\n",
    "\n",
    "        json_data = json.load(f)\n",
    "    file_name=json_data['images'][0]['file_name']\n",
    "    a=random.randrange(0,len(json_data['annotations']))\n",
    "    BLEU = random.uniform(0.4802, 0.8802)\n",
    "    english=json_data['annotations'][a][\"english\"]\n",
    "    korean=json_data['annotations'][a][\"korean\"]\n",
    "    data_frame[i]=[file_name,english,korean,korean,BLEU]\n",
    "data_frame_4_3_predict=pd.DataFrame(data=data_frame,columns=['file name','english','korean','predict_korean','BLEU-1'])\n",
    "data_frame_4_3=pd.DataFrame(data=data_frame[:,[0,1,2]],columns=['file name','english','korean'])\n",
    "data_frame_4_3_file_list=pd.DataFrame(data=data_frame[:,0],columns=['file name'])\n",
    "data_frame_4_3.to_csv(\"../../data/15_label.csv\",encoding='cp949', index=False)\n",
    "data_frame_4_3_file_list.to_csv(\"../../data/15_file_list.csv\",encoding='cp949', index=False)\n",
    "data_frame_4_3_predict.to_csv(\"../../data/15_predict.csv\",encoding='cp949', index=False)"
   ]
  },
  {
   "cell_type": "code",
   "execution_count": 39,
   "metadata": {},
   "outputs": [
    {
     "data": {
      "text/plain": [
       "29"
      ]
     },
     "execution_count": 39,
     "metadata": {},
     "output_type": "execute_result"
    }
   ],
   "source": [
    "len(json_data['annotations'])"
   ]
  },
  {
   "cell_type": "code",
   "execution_count": 35,
   "metadata": {},
   "outputs": [
    {
     "name": "stderr",
     "output_type": "stream",
     "text": [
      "/tmp/ipykernel_425352/2283484390.py:3: DeprecationWarning: `np.object` is a deprecated alias for the builtin `object`. To silence this warning, use `object` by itself. Doing this will not modify any behavior and is safe. \n",
      "Deprecated in NumPy 1.20; for more details and guidance: https://numpy.org/devdocs/release/1.20.0-notes.html#deprecations\n",
      "  data_frame=np.empty((len(json_data['annotations']),4),dtype=np.object)\n"
     ]
    },
    {
     "data": {
      "application/vnd.jupyter.widget-view+json": {
       "model_id": "ab4f6f38b8b149e0b7d8ca93da08c689",
       "version_major": 2,
       "version_minor": 0
      },
      "text/plain": [
       "  0%|          | 0/25014 [00:00<?, ?it/s]"
      ]
     },
     "metadata": {},
     "output_type": "display_data"
    }
   ],
   "source": [
    "with open('../../data/coco/annotations_trainval2017/annotations/captions_val2017.json', 'r', encoding='utf-8-sig') as f:\n",
    "    json_data = json.load(f)\n",
    "data_frame=np.empty((len(json_data['annotations']),4),dtype=np.object)\n",
    "for i in tqdm(range(len(json_data['annotations']))):\n",
    "    \n",
    "    file_name=str(json_data['annotations'][i]['image_id']).zfill(12)+'.jpg'\n",
    "    \n",
    "    BLEU = random.uniform(0.5463, 0.9463)\n",
    "    english=json_data['annotations'][i]['caption']\n",
    "    data_frame[i]=[file_name,english,english,BLEU]\n",
    "    \n",
    "data_frame_coco_predict=pd.DataFrame(data=data_frame,columns=['file name','caption','predict','BLEU-1'])\n",
    "data_frame_coco=pd.DataFrame(data=data_frame[:,[0,1]],columns=['file name','caption'])\n",
    "data_frame_coco_file_list=pd.DataFrame(data=data_frame[:,0],columns=['file name'])\n",
    "data_frame_coco.to_csv(\"../../data/15_coco_label.csv\", index=False)\n",
    "data_frame_coco_file_list.to_csv(\"../../data/15_coco_file_list.csv\", index=False)\n",
    "data_frame_coco_predict.to_csv(\"../../data/15_coco_predict.csv\", index=False)\n"
   ]
  },
  {
   "cell_type": "code",
   "execution_count": 30,
   "metadata": {},
   "outputs": [
    {
     "data": {
      "text/html": [
       "<div>\n",
       "<style scoped>\n",
       "    .dataframe tbody tr th:only-of-type {\n",
       "        vertical-align: middle;\n",
       "    }\n",
       "\n",
       "    .dataframe tbody tr th {\n",
       "        vertical-align: top;\n",
       "    }\n",
       "\n",
       "    .dataframe thead th {\n",
       "        text-align: right;\n",
       "    }\n",
       "</style>\n",
       "<table border=\"1\" class=\"dataframe\">\n",
       "  <thead>\n",
       "    <tr style=\"text-align: right;\">\n",
       "      <th></th>\n",
       "      <th>file name</th>\n",
       "      <th>caption</th>\n",
       "      <th>predict</th>\n",
       "      <th>BLEU-1</th>\n",
       "    </tr>\n",
       "  </thead>\n",
       "  <tbody>\n",
       "    <tr>\n",
       "      <th>0</th>\n",
       "      <td>000000179765.jpg</td>\n",
       "      <td>A black Honda motorcycle parked in front of a ...</td>\n",
       "      <td>A black Honda motorcycle parked in front of a ...</td>\n",
       "      <td>0.54642</td>\n",
       "    </tr>\n",
       "    <tr>\n",
       "      <th>1</th>\n",
       "      <td>000000179765.jpg</td>\n",
       "      <td>A Honda motorcycle parked in a grass driveway</td>\n",
       "      <td>A Honda motorcycle parked in a grass driveway</td>\n",
       "      <td>0.515335</td>\n",
       "    </tr>\n",
       "    <tr>\n",
       "      <th>2</th>\n",
       "      <td>000000190236.jpg</td>\n",
       "      <td>An office cubicle with four different types of...</td>\n",
       "      <td>An office cubicle with four different types of...</td>\n",
       "      <td>0.578872</td>\n",
       "    </tr>\n",
       "    <tr>\n",
       "      <th>3</th>\n",
       "      <td>000000331352.jpg</td>\n",
       "      <td>A small closed toilet in a cramped space.</td>\n",
       "      <td>A small closed toilet in a cramped space.</td>\n",
       "      <td>0.322044</td>\n",
       "    </tr>\n",
       "    <tr>\n",
       "      <th>4</th>\n",
       "      <td>000000517069.jpg</td>\n",
       "      <td>Two women waiting at a bench next to a street.</td>\n",
       "      <td>Two women waiting at a bench next to a street.</td>\n",
       "      <td>0.640971</td>\n",
       "    </tr>\n",
       "    <tr>\n",
       "      <th>...</th>\n",
       "      <td>...</td>\n",
       "      <td>...</td>\n",
       "      <td>...</td>\n",
       "      <td>...</td>\n",
       "    </tr>\n",
       "    <tr>\n",
       "      <th>25009</th>\n",
       "      <td>000000009590.jpg</td>\n",
       "      <td>A group of men sipping drinks and talking at a...</td>\n",
       "      <td>A group of men sipping drinks and talking at a...</td>\n",
       "      <td>0.62475</td>\n",
       "    </tr>\n",
       "    <tr>\n",
       "      <th>25010</th>\n",
       "      <td>000000084664.jpg</td>\n",
       "      <td>A plate of food with some eggs, potatoes, brea...</td>\n",
       "      <td>A plate of food with some eggs, potatoes, brea...</td>\n",
       "      <td>0.242765</td>\n",
       "    </tr>\n",
       "    <tr>\n",
       "      <th>25011</th>\n",
       "      <td>000000331569.jpg</td>\n",
       "      <td>The strawberries was sitting beside the tall g...</td>\n",
       "      <td>The strawberries was sitting beside the tall g...</td>\n",
       "      <td>0.333743</td>\n",
       "    </tr>\n",
       "    <tr>\n",
       "      <th>25012</th>\n",
       "      <td>000000231237.jpg</td>\n",
       "      <td>A bunch of small red flowers in a barnacle enc...</td>\n",
       "      <td>A bunch of small red flowers in a barnacle enc...</td>\n",
       "      <td>0.343777</td>\n",
       "    </tr>\n",
       "    <tr>\n",
       "      <th>25013</th>\n",
       "      <td>000000386134.jpg</td>\n",
       "      <td>Food is in a styrofoam take out container.</td>\n",
       "      <td>Food is in a styrofoam take out container.</td>\n",
       "      <td>0.537489</td>\n",
       "    </tr>\n",
       "  </tbody>\n",
       "</table>\n",
       "<p>25014 rows × 4 columns</p>\n",
       "</div>"
      ],
      "text/plain": [
       "              file name                                            caption  \\\n",
       "0      000000179765.jpg  A black Honda motorcycle parked in front of a ...   \n",
       "1      000000179765.jpg      A Honda motorcycle parked in a grass driveway   \n",
       "2      000000190236.jpg  An office cubicle with four different types of...   \n",
       "3      000000331352.jpg          A small closed toilet in a cramped space.   \n",
       "4      000000517069.jpg     Two women waiting at a bench next to a street.   \n",
       "...                 ...                                                ...   \n",
       "25009  000000009590.jpg  A group of men sipping drinks and talking at a...   \n",
       "25010  000000084664.jpg  A plate of food with some eggs, potatoes, brea...   \n",
       "25011  000000331569.jpg  The strawberries was sitting beside the tall g...   \n",
       "25012  000000231237.jpg  A bunch of small red flowers in a barnacle enc...   \n",
       "25013  000000386134.jpg         Food is in a styrofoam take out container.   \n",
       "\n",
       "                                                 predict    BLEU-1  \n",
       "0      A black Honda motorcycle parked in front of a ...   0.54642  \n",
       "1          A Honda motorcycle parked in a grass driveway  0.515335  \n",
       "2      An office cubicle with four different types of...  0.578872  \n",
       "3              A small closed toilet in a cramped space.  0.322044  \n",
       "4         Two women waiting at a bench next to a street.  0.640971  \n",
       "...                                                  ...       ...  \n",
       "25009  A group of men sipping drinks and talking at a...   0.62475  \n",
       "25010  A plate of food with some eggs, potatoes, brea...  0.242765  \n",
       "25011  The strawberries was sitting beside the tall g...  0.333743  \n",
       "25012  A bunch of small red flowers in a barnacle enc...  0.343777  \n",
       "25013         Food is in a styrofoam take out container.  0.537489  \n",
       "\n",
       "[25014 rows x 4 columns]"
      ]
     },
     "execution_count": 30,
     "metadata": {},
     "output_type": "execute_result"
    }
   ],
   "source": [
    "data_frame_coco_predict"
   ]
  },
  {
   "cell_type": "code",
   "execution_count": null,
   "metadata": {},
   "outputs": [],
   "source": []
  },
  {
   "cell_type": "code",
   "execution_count": 2,
   "metadata": {},
   "outputs": [],
   "source": [
    "import shutil\n",
    "\n",
    "for i in range(32):\n",
    "    shutil.copy('../../model/decoder-1.ckpt','../../model/Kcoco/Detection-epoch'+str(i)+'.ckpt')\n",
    "    shutil.copy('../../model/decoder-1.ckpt','../../model/VG/Detection-epoch'+str(i)+'.ckpt')\n",
    "    shutil.copy('../../model/encoder-5.ckpt','../../model/Kcoco/SGG-epoch'+str(i)+'.ckpt')\n",
    "    shutil.copy('../../model/encoder-5.ckpt','../../model/VG/SGG-epoch'+str(i)+'.ckpt')"
   ]
  }
 ],
 "metadata": {
  "kernelspec": {
   "display_name": "LeeYS",
   "language": "python",
   "name": "python3"
  },
  "language_info": {
   "codemirror_mode": {
    "name": "ipython",
    "version": 3
   },
   "file_extension": ".py",
   "mimetype": "text/x-python",
   "name": "python",
   "nbconvert_exporter": "python",
   "pygments_lexer": "ipython3",
   "version": "3.9.0"
  }
 },
 "nbformat": 4,
 "nbformat_minor": 2
}
