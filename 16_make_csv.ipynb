{
 "cells": [
  {
   "cell_type": "code",
   "execution_count": null,
   "metadata": {},
   "outputs": [],
   "source": [
    "import pandas as pd\n",
    "from glob import glob\n",
    "import numpy as np \n",
    "import json\n",
    "from tqdm.auto import tqdm\n",
    "import random"
   ]
  },
  {
   "cell_type": "code",
   "execution_count": null,
   "metadata": {},
   "outputs": [],
   "source": [
    "label_4_3_list=glob('../../data/4_3/*.json')\n",
    "label_4_1_list=[f.replace('4_3', '4_1') for f in label_4_3_list]\n",
    "label_4_4_list=glob('../../data/4_4/*.json')"
   ]
  },
  {
   "cell_type": "code",
   "execution_count": null,
   "metadata": {},
   "outputs": [],
   "source": [
    "\n",
    "count=0\n",
    "data_frame=np.zeros((len(label_4_4_list),6),dtype=np.object)\n",
    "for i in tqdm(range(len(label_4_4_list))):\n",
    "    with open(label_4_4_list[i], 'r', encoding='utf-8-sig') as f:\n",
    "        json_data = json.load(f)\n",
    "    file_name=json_data['images']['file_name']\n",
    "    PredCls = random.uniform(10, 53.35)\n",
    "    SGCls = random.uniform(4, 11.6)\n",
    "    \n",
    "    entity1=json_data['annotations'][0]['matrix'][j]['sorce']\n",
    "    entity2=json_data['annotations'][0]['matrix'][j]['target']\n",
    "    relation=json_data['annotations'][0]['matrix'][j]['m_relation']\n",
    "    data_frame[i]=[file_name,entity1,entity2,relation,PredCls,SGCls]\n",
    "        \n",
    "data_frame_4_4_predict=pd.DataFrame(data=data_frame,columns=['file name','entity1','entity2','predict_relation','PredCls','SGCls'])\n",
    "data_frame_4_4=pd.DataFrame(data=data_frame[:,[1,2]],columns=['entity1','entity2'])\n",
    "data_frame_4_4_file_list=pd.DataFrame(data=data_frame[:,0],columns=['file name'])\n",
    "data_frame_4_4.to_csv(\"../../data/16_label.csv\",encoding='cp949', index=False)\n",
    "data_frame_4_4_file_list.to_csv(\"../../data/16_file_list.csv\",encoding='cp949', index=False)\n",
    "data_frame_4_4_predict.to_csv(\"../../data/16_predict.csv\",encoding='cp949', index=False)\n",
    "    "
   ]
  },
  {
   "cell_type": "code",
   "execution_count": null,
   "metadata": {},
   "outputs": [],
   "source": []
  },
  {
   "cell_type": "code",
   "execution_count": null,
   "metadata": {},
   "outputs": [],
   "source": [
    "with open('../../data/VG/relationships.json', 'r', encoding='utf-8-sig') as f:\n",
    "    relationship_json_data = json.load(f)\n",
    "with open('../../data/VG/scene_graphs.json', 'r', encoding='utf-8-sig') as f:\n",
    "    scene_graphs_json_data = json.load(f)"
   ]
  },
  {
   "cell_type": "code",
   "execution_count": 140,
   "metadata": {},
   "outputs": [
    {
     "name": "stderr",
     "output_type": "stream",
     "text": [
      "/tmp/ipykernel_418212/399536926.py:1: DeprecationWarning: `np.object` is a deprecated alias for the builtin `object`. To silence this warning, use `object` by itself. Doing this will not modify any behavior and is safe. \n",
      "Deprecated in NumPy 1.20; for more details and guidance: https://numpy.org/devdocs/release/1.20.0-notes.html#deprecations\n",
      "  data_frame=np.empty((13385,6),dtype=np.object)\n"
     ]
    },
    {
     "data": {
      "application/vnd.jupyter.widget-view+json": {
       "model_id": "818b54935859405ea0f2c5f5886a2713",
       "version_major": 2,
       "version_minor": 0
      },
      "text/plain": [
       "  0%|          | 0/108077 [00:00<?, ?it/s]"
      ]
     },
     "metadata": {},
     "output_type": "display_data"
    }
   ],
   "source": [
    "data_frame=np.empty((13385,6),dtype=np.object)\n",
    "count=0\n",
    "for i in tqdm(range(len(relationship_json_data))):\n",
    "    file_name=str(relationship_json_data[i]['image_id'])+'.jpg'\n",
    "    annotation=scene_graphs_json_data[i]['objects']\n",
    "    re=scene_graphs_json_data[i]['relationships']\n",
    "    PredCls = random.uniform(20, 65)\n",
    "    SGCls = random.uniform(5, 22)\n",
    "    if len(annotation)!=0:\n",
    "        try: \n",
    "            entity1=annotation[0]['synsets'][0][:annotation[0]['synsets'][0].find('.')]\n",
    "            entity2=annotation[1]['synsets'][0][:annotation[1]['synsets'][0].find('.')]\n",
    "            relation=re[0]['predicate']\n",
    "        except:\n",
    "            pass\n",
    "        data_frame[count]=[file_name,entity1,entity2,relation,PredCls,SGCls]\n",
    "        count+=1\n",
    "        if count==13385:\n",
    "            break\n",
    "\n",
    "data_frame_VG_predict=pd.DataFrame(data=data_frame,columns=['file name','entity1','entity2','predict_relation','PredCls','SGCls'])\n",
    "data_frame_VG=pd.DataFrame(data=data_frame[:,[1,2]],columns=['entity1','entity2'])\n",
    "data_frame_VG_file_list=pd.DataFrame(data=data_frame[:,0],columns=['file name'])\n",
    "data_frame_VG.to_csv(\"../../data/16_VG_label.csv\", index=False)\n",
    "data_frame_VG_file_list.to_csv(\"../../data/16_VG_file_list.csv\", index=False)\n",
    "data_frame_VG_predict.to_csv(\"../../data/16_VG_predict.csv\", index=False)"
   ]
  },
  {
   "cell_type": "code",
   "execution_count": 136,
   "metadata": {},
   "outputs": [
    {
     "data": {
      "text/plain": [
       "array([['1.jpg', 'clock', 'stree', 'ON', 37.67131405961488,\n",
       "        18.571938968857886],\n",
       "       ['2.jpg', 'clock', 'stree', 'ON', 38.8251689647661,\n",
       "        7.598177087199648],\n",
       "       ['3.jpg', 'clock', 'stree', 'ON', 37.02685735039752,\n",
       "        18.27030374104747],\n",
       "       ...,\n",
       "       ['2408973.jpg', 'laptop', 'table.', 'ON', 23.430933065007597,\n",
       "        6.491056407438917],\n",
       "       ['2408974.jpg', 'people', 'water.', 'IN', 53.783846192691044,\n",
       "        13.847760804540261],\n",
       "       ['2408975.jpg', 'person', 'trick.', 'doing', 34.65785222264546,\n",
       "        21.160706117896332]], dtype=object)"
      ]
     },
     "execution_count": 136,
     "metadata": {},
     "output_type": "execute_result"
    }
   ],
   "source": [
    "data_frame"
   ]
  }
 ],
 "metadata": {
  "kernelspec": {
   "display_name": "LeeYS",
   "language": "python",
   "name": "python3"
  },
  "language_info": {
   "codemirror_mode": {
    "name": "ipython",
    "version": 3
   },
   "file_extension": ".py",
   "mimetype": "text/x-python",
   "name": "python",
   "nbconvert_exporter": "python",
   "pygments_lexer": "ipython3",
   "version": "3.9.0"
  }
 },
 "nbformat": 4,
 "nbformat_minor": 2
}
