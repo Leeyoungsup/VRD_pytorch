{
 "cells": [
  {
   "cell_type": "code",
   "execution_count": 87,
   "metadata": {},
   "outputs": [],
   "source": [
    "import os\n",
    "import shutil\n",
    "import pandas as pd\n",
    "from glob import glob\n",
    "from tqdm import tqdm\n",
    "def createDirectory(directory):\n",
    "    try:\n",
    "        if not os.path.exists(directory):\n",
    "            os.makedirs(directory)\n",
    "    except OSError:\n",
    "        print(\"Error: Failed to create the directory.\")\n",
    "        "
   ]
  },
  {
   "cell_type": "markdown",
   "metadata": {},
   "source": [
    "image_copy"
   ]
  },
  {
   "cell_type": "code",
   "execution_count": 92,
   "metadata": {},
   "outputs": [
    {
     "name": "stderr",
     "output_type": "stream",
     "text": [
      "100%|██████████| 150/150 [01:07<00:00,  2.23it/s]\n",
      "100%|██████████| 63/63 [00:21<00:00,  2.97it/s]\n"
     ]
    }
   ],
   "source": [
    "image_forlder_list=glob('../../../../JC_Yeom/dataset/MSDN/x__/**/')\n",
    "copy_image_forlder_list=[f.replace('/../../JC_Yeom/dataset/MSDN/x__', '/data/total/img') for f in image_forlder_list]\n",
    "for i in range(len(copy_image_forlder_list)):\n",
    "    createDirectory(copy_image_forlder_list[i])\n",
    "for i in tqdm(range(len(image_forlder_list))):\n",
    "    image_list=glob(image_forlder_list[i]+'*.jpg')\n",
    "    copy_image_list=[f.replace('/../../JC_Yeom/dataset/MSDN/x__', '/data/total/img') for f in image_list]\n",
    "    for k in range(len(image_list)//10):\n",
    "        shutil.move(image_list[k],copy_image_list[k])\n",
    "        \n",
    "image_forlder_list=glob('../../../../JC_Yeom/dataset/MSDN/x__/**/**/')\n",
    "copy_image_forlder_list=[f.replace('/../../JC_Yeom/dataset/MSDN/x__', '/data/total/img') for f in image_forlder_list]\n",
    "for i in range(len(copy_image_forlder_list)):\n",
    "    createDirectory(copy_image_forlder_list[i])\n",
    "for i in tqdm(range(len(image_forlder_list))):\n",
    "    image_list=glob(image_forlder_list[i]+'*.jpg')\n",
    "    copy_image_list=[f.replace('/../../JC_Yeom/dataset/MSDN/x__', '/data/total/img') for f in image_list]\n",
    "    for k in range(len(image_list)//10):\n",
    "        shutil.move(image_list[k],copy_image_list[k])"
   ]
  },
  {
   "cell_type": "markdown",
   "metadata": {},
   "source": [
    "bbox copy"
   ]
  },
  {
   "cell_type": "code",
   "execution_count": 96,
   "metadata": {},
   "outputs": [
    {
     "name": "stderr",
     "output_type": "stream",
     "text": [
      "100%|██████████| 150/150 [01:31<00:00,  1.64it/s]\n"
     ]
    }
   ],
   "source": [
    "image_forlder_list=glob('../../data/total/img/**/')\n",
    "copy_bbox_forlder_list=[f.replace('/img', '/bbox') for f in image_forlder_list]\n",
    "bbox_forlder_list=[f.replace('/data/total/img', '/../../JC_Yeom/dataset/MSDN/bbox') for f in image_forlder_list]\n",
    "for i in range(len(copy_bbox_forlder_list)):\n",
    "    createDirectory(copy_bbox_forlder_list[i])\n",
    "for i in tqdm(range(len(bbox_forlder_list))):\n",
    "        bbox_list=glob(image_forlder_list[i]+'*.jpg')\n",
    "        bbox_list=[f.replace('/data/total/img', '/../../JC_Yeom/dataset/MSDN/bbox') for f in bbox_list]\n",
    "        bbox_list=[f.replace('.jpg', '_(4_1).json') for f in bbox_list]\n",
    "        copy_bbox_list=[f.replace('/../../JC_Yeom/dataset/MSDN/bbox', '/data/total/bbox') for f in bbox_list]\n",
    "        for k in range(len(bbox_list)):\n",
    "            try:\n",
    "                shutil.move(bbox_list[k],copy_bbox_list[k])\n",
    "            except:\n",
    "                pass"
   ]
  },
  {
   "cell_type": "code",
   "execution_count": 97,
   "metadata": {},
   "outputs": [
    {
     "name": "stderr",
     "output_type": "stream",
     "text": [
      "100%|██████████| 63/63 [00:31<00:00,  1.98it/s]\n"
     ]
    }
   ],
   "source": [
    "image_forlder_list=glob('../../data/total/img/**/**/')\n",
    "copy_bbox_forlder_list=[f.replace('/img', '/bbox') for f in image_forlder_list]\n",
    "bbox_forlder_list=[f.replace('/data/total/img', '/../../JC_Yeom/dataset/MSDN/bbox') for f in image_forlder_list]\n",
    "for i in range(len(copy_bbox_forlder_list)):\n",
    "    createDirectory(copy_bbox_forlder_list[i])\n",
    "for i in tqdm(range(len(bbox_forlder_list))):\n",
    "        bbox_list=glob(image_forlder_list[i]+'*.jpg')\n",
    "        bbox_list=[f.replace('/data/total/img', '/../../JC_Yeom/dataset/MSDN/bbox') for f in bbox_list]\n",
    "        bbox_list=[f.replace('.jpg', '_(4_1).json') for f in bbox_list]\n",
    "        copy_bbox_list=[f.replace('/../../JC_Yeom/dataset/MSDN/bbox', '/data/total/bbox') for f in bbox_list]\n",
    "        for k in range(len(bbox_list)):\n",
    "            try:\n",
    "                shutil.move(bbox_list[k],copy_bbox_list[k])\n",
    "            except:\n",
    "                pass"
   ]
  },
  {
   "cell_type": "markdown",
   "metadata": {},
   "source": [
    "relation copy"
   ]
  },
  {
   "cell_type": "code",
   "execution_count": 94,
   "metadata": {},
   "outputs": [
    {
     "name": "stderr",
     "output_type": "stream",
     "text": [
      "100%|██████████| 150/150 [01:30<00:00,  1.65it/s]\n"
     ]
    }
   ],
   "source": [
    "image_forlder_list=glob('../../data/total/img/**/')\n",
    "copy_relation_forlder_list=[f.replace('/img', '/relation') for f in image_forlder_list]\n",
    "relation_forlder_list=[f.replace('/data/total/img', '/../../JC_Yeom/dataset/MSDN/relation') for f in image_forlder_list]\n",
    "for i in range(len(copy_relation_forlder_list)):\n",
    "    createDirectory(copy_relation_forlder_list[i])\n",
    "for i in tqdm(range(len(relation_forlder_list))):\n",
    "    relation_list=glob(image_forlder_list[i]+'*.jpg')\n",
    "    relation_list=[f.replace('/data/total/img', '/../../JC_Yeom/dataset/MSDN/relation') for f in relation_list]\n",
    "    relation_list=[f.replace('.jpg', '_(4_4).json') for f in relation_list]\n",
    "    copy_relation_list=[f.replace('/../../JC_Yeom/dataset/MSDN/relation', '/data/total/relation') for f in relation_list]\n",
    "    for k in range(len(relation_list)):\n",
    "        shutil.move(relation_list[k],copy_relation_list[k])"
   ]
  },
  {
   "cell_type": "code",
   "execution_count": 93,
   "metadata": {},
   "outputs": [
    {
     "name": "stderr",
     "output_type": "stream",
     "text": [
      "100%|██████████| 63/63 [00:29<00:00,  2.11it/s]\n"
     ]
    }
   ],
   "source": [
    "image_forlder_list=glob('../../data/total/img/**/**/')\n",
    "copy_relation_forlder_list=[f.replace('/img', '/relation') for f in image_forlder_list]\n",
    "relation_forlder_list=[f.replace('/data/total/img', '/../../JC_Yeom/dataset/MSDN/relation') for f in image_forlder_list]\n",
    "for i in range(len(copy_relation_forlder_list)):\n",
    "    createDirectory(copy_relation_forlder_list[i])\n",
    "for i in tqdm(range(len(relation_forlder_list))):\n",
    "    relation_list=glob(image_forlder_list[i]+'*.jpg')\n",
    "    relation_list=[f.replace('/data/total/img', '/../../JC_Yeom/dataset/MSDN/relation') for f in relation_list]\n",
    "    relation_list=[f.replace('.jpg', '_(4_4).json') for f in relation_list]\n",
    "    copy_relation_list=[f.replace('/../../JC_Yeom/dataset/MSDN/relation', '/data/total/relation') for f in relation_list]\n",
    "    for k in range(len(relation_list)):\n",
    "        shutil.move(relation_list[k],copy_relation_list[k])"
   ]
  },
  {
   "cell_type": "markdown",
   "metadata": {},
   "source": [
    "data_clear"
   ]
  },
  {
   "cell_type": "code",
   "execution_count": 149,
   "metadata": {},
   "outputs": [
    {
     "name": "stderr",
     "output_type": "stream",
     "text": [
      "100%|██████████| 5/5 [00:02<00:00,  2.41it/s]\n",
      "100%|██████████| 150/150 [01:28<00:00,  1.69it/s]\n",
      "100%|██████████| 150/150 [01:19<00:00,  1.88it/s]\n"
     ]
    }
   ],
   "source": [
    "image_forlder_list=glob('../../data/total/img/**/')\n",
    "for i in tqdm(range(len(image_forlder_list))):\n",
    "    parent_dir = os.path.dirname(os.path.dirname(image_forlder_list[i]))\n",
    "    file_list=glob(image_forlder_list[i]+'*.jpg')\n",
    "    for k in range(len(file_list)):\n",
    "        file_name=os.path.basename(file_list[k])\n",
    "        shutil.move(file_list[k],parent_dir+'/'+file_name)\n",
    "    os.rmdir(os.path.dirname(image_forlder_list[i]))   \n",
    "    \n",
    "relation_forlder_list=glob('../../data/total/relation/**/')\n",
    "for i in tqdm(range(len(relation_forlder_list))):\n",
    "    parent_dir = os.path.dirname(os.path.dirname(relation_forlder_list[i]))\n",
    "    file_list=glob(relation_forlder_list[i]+'*.json')\n",
    "    for k in range(len(file_list)):\n",
    "        file_name=os.path.basename(file_list[k])\n",
    "        shutil.move(file_list[k],parent_dir+'/'+file_name)\n",
    "    os.rmdir(os.path.dirname(relation_forlder_list[i]))\n",
    "\n",
    "bbox_forlder_list=glob('../../data/total/bbox/**/')\n",
    "for i in tqdm(range(len(bbox_forlder_list))):\n",
    "    parent_dir = os.path.dirname(os.path.dirname(bbox_forlder_list[i]))\n",
    "    file_list=glob(bbox_forlder_list[i]+'*.json')\n",
    "    for k in range(len(file_list)):\n",
    "        file_name=os.path.basename(file_list[k])\n",
    "        shutil.move(file_list[k],parent_dir+'/'+file_name)\n",
    "    os.rmdir(os.path.dirname(bbox_forlder_list[i]))"
   ]
  },
  {
   "cell_type": "code",
   "execution_count": 152,
   "metadata": {},
   "outputs": [],
   "source": [
    "relation_list=glob('../../data/total/relation/*.json')\n",
    "relation_list=set([f.replace('/relation', '/bbox') for f in relation_list])\n",
    "bbox_list=set(glob('../../data/total/bbox/*.json'))\n",
    "image_list=glob('../../data/total/img/*.jpg')\n",
    "image_list=[f.replace('/img', '/bbox') for f in image_list]\n",
    "image_list=set([f.replace('.jpg', '.json') for f in image_list])"
   ]
  },
  {
   "cell_type": "code",
   "execution_count": 157,
   "metadata": {},
   "outputs": [],
   "source": [
    "delete_list=list(image_list - bbox_list)\n",
    "delete_img_list=[f.replace('/bbox', '/img') for f in delete_list]\n",
    "delete_img_list=[f.replace('.json', '.jpg') for f in delete_img_list]\n",
    "\n",
    "delete_relation_list=[f.replace('/bbox', '/relation') for f in delete_list]\n"
   ]
  },
  {
   "cell_type": "code",
   "execution_count": 159,
   "metadata": {},
   "outputs": [],
   "source": [
    "for i in range(len(delete_img_list)):\n",
    "    os.remove(delete_img_list[i])\n",
    "    \n",
    "for i in range(len(delete_relation_list)):\n",
    "    os.remove(delete_relation_list[i])"
   ]
  }
 ],
 "metadata": {
  "kernelspec": {
   "display_name": "LeeYS",
   "language": "python",
   "name": "python3"
  },
  "language_info": {
   "codemirror_mode": {
    "name": "ipython",
    "version": 3
   },
   "file_extension": ".py",
   "mimetype": "text/x-python",
   "name": "python",
   "nbconvert_exporter": "python",
   "pygments_lexer": "ipython3",
   "version": "3.9.0"
  }
 },
 "nbformat": 4,
 "nbformat_minor": 2
}
