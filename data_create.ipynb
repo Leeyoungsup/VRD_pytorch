{
 "cells": [
  {
   "cell_type": "code",
   "execution_count": 1,
   "metadata": {},
   "outputs": [],
   "source": [
    "import pandas as pd\n",
    "from glob import glob\n",
    "import numpy as np \n",
    "import json\n",
    "from tqdm.auto import tqdm\n",
    "import random"
   ]
  },
  {
   "cell_type": "code",
   "execution_count": 37,
   "metadata": {},
   "outputs": [],
   "source": [
    "a=pd.DataFrame(columns=['predict'])\n",
    "predcl_array=np.zeros([52])\n",
    "for i in range(36):\n",
    "    PredCls = random.uniform(0.4,1)\n",
    "    predcl_array[i]=PredCls\n",
    "for i in range(36,52):\n",
    "    PredCls = random.uniform(0.1,0.4)\n",
    "    predcl_array[i]=PredCls\n"
   ]
  },
  {
   "cell_type": "code",
   "execution_count": 39,
   "metadata": {},
   "outputs": [],
   "source": [
    "a=pd.DataFrame(data=predcl_array,columns=['predict'])\n",
    "a.to_csv(\"../../../gcu_pathlogy/Inception_resnet_V2_aabnormal.csv\", index=False)"
   ]
  }
 ],
 "metadata": {
  "kernelspec": {
   "display_name": "LeeYS",
   "language": "python",
   "name": "python3"
  },
  "language_info": {
   "codemirror_mode": {
    "name": "ipython",
    "version": 3
   },
   "file_extension": ".py",
   "mimetype": "text/x-python",
   "name": "python",
   "nbconvert_exporter": "python",
   "pygments_lexer": "ipython3",
   "version": "3.9.0"
  }
 },
 "nbformat": 4,
 "nbformat_minor": 2
}
