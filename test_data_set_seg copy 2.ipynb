{
 "cells": [
  {
   "cell_type": "code",
   "execution_count": 2,
   "metadata": {},
   "outputs": [],
   "source": [
    "from glob import glob\n",
    "import os\n",
    "import os.path\n",
    "from os import path\n",
    "import json\n",
    "import shutil\n",
    "from tqdm.auto import tqdm\n",
    "def createDirectory(directory):\n",
    "    try:\n",
    "        if not os.path.exists(directory):\n",
    "            os.makedirs(directory)\n",
    "    except OSError:\n",
    "        print(\"Error: Failed to create the directory.\")\n",
    "        \n",
    "folder_list=glob('Y:\\\\013.객체 인식용 한국형 비전 데이터\\\\08.최종산출물\\\\01-1.최종데이터(업로드)\\\\3.Test\\\\02.라벨링데이터\\\\image(단일)\\\\**\\\\')\n",
    "folder_copy_list=[f.replace('Y:\\\\013.객체 인식용 한국형 비전 데이터\\\\08.최종산출물\\\\01-1.최종데이터(업로드)\\\\3.Test\\\\02.라벨링데이터\\\\image(단일)\\\\', '..\\\\..\\\\data\\\\4_1\\\\') for f in folder_list]\n",
    "for i in range(len(folder_copy_list)):\n",
    "    createDirectory(folder_copy_list[i])\n",
    "folder_list=glob('Y:\\\\013.객체 인식용 한국형 비전 데이터\\\\08.최종산출물\\\\01-1.최종데이터(업로드)\\\\3.Test\\\\02.라벨링데이터\\\\image(단일)\\\\**\\\\**\\\\')\n",
    "folder_copy_list=[f.replace('Y:\\\\013.객체 인식용 한국형 비전 데이터\\\\08.최종산출물\\\\01-1.최종데이터(업로드)\\\\3.Test\\\\02.라벨링데이터\\\\image(단일)\\\\', '..\\\\..\\\\data\\\\4_1\\\\') for f in folder_list]\n",
    "for i in range(len(folder_copy_list)):\n",
    "    createDirectory(folder_copy_list[i])\n",
    "        "
   ]
  },
  {
   "cell_type": "code",
   "execution_count": 4,
   "metadata": {},
   "outputs": [
    {
     "data": {
      "application/vnd.jupyter.widget-view+json": {
       "model_id": "8a013dac3f98406c99decd8c3c5b6be8",
       "version_major": 2,
       "version_minor": 0
      },
      "text/plain": [
       "  0%|          | 0/243925 [00:00<?, ?it/s]"
      ]
     },
     "metadata": {},
     "output_type": "display_data"
    }
   ],
   "source": [
    "file_list=glob('Y:\\\\013.객체 인식용 한국형 비전 데이터\\\\08.최종산출물\\\\01-1.최종데이터(업로드)\\\\3.Test\\\\02.라벨링데이터\\\\image(단일)\\\\**\\\\*.json')\n",
    "file_copy_list=[f.replace('Y:\\\\013.객체 인식용 한국형 비전 데이터\\\\08.최종산출물\\\\01-1.최종데이터(업로드)\\\\3.Test\\\\02.라벨링데이터\\\\image(단일)\\\\', '..\\\\..\\\\data\\\\4_1\\\\') for f in file_list]\n",
    "for i in tqdm(range(len(file_list))):\n",
    "    shutil.copy(file_list[i],file_copy_list[i])\n"
   ]
  },
  {
   "cell_type": "code",
   "execution_count": 5,
   "metadata": {},
   "outputs": [
    {
     "data": {
      "application/vnd.jupyter.widget-view+json": {
       "model_id": "e6997518d0b34236bdef4dd0c0c8d9c6",
       "version_major": 2,
       "version_minor": 0
      },
      "text/plain": [
       "  0%|          | 0/62701 [00:00<?, ?it/s]"
      ]
     },
     "metadata": {},
     "output_type": "display_data"
    }
   ],
   "source": [
    "file_list=glob('Y:\\\\013.객체 인식용 한국형 비전 데이터\\\\08.최종산출물\\\\01-1.최종데이터(업로드)\\\\3.Test\\\\02.라벨링데이터\\\\image(단일)\\\\**\\\\**\\\\*.json')\n",
    "file_copy_list=[f.replace('Y:\\\\013.객체 인식용 한국형 비전 데이터\\\\08.최종산출물\\\\01-1.최종데이터(업로드)\\\\3.Test\\\\02.라벨링데이터\\\\image(단일)\\\\', '..\\\\..\\\\data\\\\4_1\\\\') for f in file_list]\n",
    "for i in tqdm(range(len(file_list))):\n",
    "    shutil.copy(file_list[i],file_copy_list[i])"
   ]
  },
  {
   "cell_type": "code",
   "execution_count": 6,
   "metadata": {},
   "outputs": [
    {
     "data": {
      "application/vnd.jupyter.widget-view+json": {
       "model_id": "18787a22f12740709abf0e24bda405c4",
       "version_major": 2,
       "version_minor": 0
      },
      "text/plain": [
       "  0%|          | 0/33257 [00:00<?, ?it/s]"
      ]
     },
     "metadata": {},
     "output_type": "display_data"
    }
   ],
   "source": [
    "file_list=glob('Y:\\\\013.객체 인식용 한국형 비전 데이터\\\\08.최종산출물\\\\01-1.최종데이터(업로드)\\\\3.Test\\\\02.라벨링데이터\\\\image(영상)\\\\**\\\\*.json')\n",
    "file_copy_list=[f.replace('Y:\\\\013.객체 인식용 한국형 비전 데이터\\\\08.최종산출물\\\\01-1.최종데이터(업로드)\\\\3.Test\\\\02.라벨링데이터\\\\image(영상)\\\\', '..\\\\..\\\\data\\\\4_1\\\\') for f in file_list]\n",
    "for i in tqdm(range(len(file_list))):\n",
    "    shutil.copy(file_list[i],file_copy_list[i])"
   ]
  }
 ],
 "metadata": {
  "kernelspec": {
   "display_name": "LeeYS",
   "language": "python",
   "name": "python3"
  },
  "language_info": {
   "codemirror_mode": {
    "name": "ipython",
    "version": 3
   },
   "file_extension": ".py",
   "mimetype": "text/x-python",
   "name": "python",
   "nbconvert_exporter": "python",
   "pygments_lexer": "ipython3",
   "version": "3.6.12"
  }
 },
 "nbformat": 4,
 "nbformat_minor": 2
}
