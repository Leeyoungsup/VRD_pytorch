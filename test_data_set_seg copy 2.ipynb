{
 "cells": [
  {
   "cell_type": "code",
   "execution_count": 56,
   "metadata": {},
   "outputs": [],
   "source": [
    "from glob import glob\n",
    "import os\n",
    "import os.path\n",
    "from os import path\n",
    "import json\n",
    "import shutil\n",
    "from tqdm.auto import tqdm\n",
    "def createDirectory(directory):\n",
    "    try:\n",
    "        if not os.path.exists(directory):\n",
    "            os.makedirs(directory)\n",
    "    except OSError:\n",
    "        print(\"Error: Failed to create the directory.\")\n",
    "        \n",
    "folder_list=glob('Y:\\\\013.객체 인식용 한국형 비전 데이터\\\\08.최종산출물\\\\01-1.최종데이터(업로드)\\\\3.Test\\\\02.라벨링데이터\\\\image(단일)\\\\**\\\\')\n",
    "folder_copy_list=[f.replace('Y:\\\\013.객체 인식용 한국형 비전 데이터\\\\08.최종산출물\\\\01-1.최종데이터(업로드)\\\\3.Test\\\\02.라벨링데이터\\\\image(단일)\\\\', '..\\\\..\\\\data\\\\4_3\\\\') for f in folder_list]\n",
    "for i in range(len(folder_copy_list)):\n",
    "    createDirectory(folder_copy_list[i])\n",
    "folder_list=glob('Y:\\\\013.객체 인식용 한국형 비전 데이터\\\\08.최종산출물\\\\01-1.최종데이터(업로드)\\\\3.Test\\\\02.라벨링데이터\\\\image(단일)\\\\**\\\\**\\\\')\n",
    "folder_copy_list=[f.replace('Y:\\\\013.객체 인식용 한국형 비전 데이터\\\\08.최종산출물\\\\01-1.최종데이터(업로드)\\\\3.Test\\\\02.라벨링데이터\\\\image(단일)\\\\', '..\\\\..\\\\data\\\\4_3\\\\') for f in folder_list]\n",
    "for i in range(len(folder_copy_list)):\n",
    "    createDirectory(folder_copy_list[i])\n",
    "        "
   ]
  },
  {
   "cell_type": "code",
   "execution_count": 58,
   "metadata": {},
   "outputs": [
    {
     "data": {
      "application/vnd.jupyter.widget-view+json": {
       "model_id": "745c7d4f35154b14a8a3ac1cff05a17e",
       "version_major": 2,
       "version_minor": 0
      },
      "text/plain": [
       "  0%|          | 0/243925 [00:00<?, ?it/s]"
      ]
     },
     "metadata": {},
     "output_type": "display_data"
    }
   ],
   "source": [
    "file_list=glob('Y:\\\\013.객체 인식용 한국형 비전 데이터\\\\08.최종산출물\\\\01-1.최종데이터(업로드)\\\\3.Test\\\\02.라벨링데이터\\\\image(단일)\\\\**\\\\*.json')\n",
    "file_copy_list=[f.replace('Y:\\\\013.객체 인식용 한국형 비전 데이터\\\\08.최종산출물\\\\01-1.최종데이터(업로드)\\\\3.Test\\\\02.라벨링데이터\\\\image(단일)\\\\', '..\\\\..\\\\data\\\\4_3\\\\') for f in file_list]\n",
    "file_copy_list=[f.replace('_(4_1)', '_(4_3)') for f in file_copy_list]\n",
    "train_copy_list=[f.replace('Y:\\\\013.객체 인식용 한국형 비전 데이터\\\\08.최종산출물\\\\01-1.최종데이터(업로드)\\\\3.Test\\\\02.라벨링데이터\\\\image(단일)\\\\', 'Y:\\\\015.이미지 설명문 추출 및 생성용 한국형 비전 데이터\\\\08.최종산출물\\\\01-1.최종데이터(업로드)\\\\1.Training\\\\02.라벨링데이터\\\\라벨링 데이터\\\\image(단일)\\\\') for f in file_list]\n",
    "train_copy_list=[f.replace('_(4_1)', '_(4_3)') for f in train_copy_list]\n",
    "val_copy_list=[f.replace('Y:\\\\013.객체 인식용 한국형 비전 데이터\\\\08.최종산출물\\\\01-1.최종데이터(업로드)\\\\3.Test\\\\02.라벨링데이터\\\\image(단일)\\\\', 'Y:\\\\015.이미지 설명문 추출 및 생성용 한국형 비전 데이터\\\\08.최종산출물\\\\01-1.최종데이터(업로드)\\\\2.Validation\\\\02.라벨링데이터\\\\라벨링 데이터\\\\image(단일)\\\\') for f in file_list]\n",
    "val_copy_list=[f.replace('_(4_1)', '_(4_3)') for f in val_copy_list]\n",
    "test_copy_list=[f.replace('Y:\\\\013.객체 인식용 한국형 비전 데이터\\\\08.최종산출물\\\\01-1.최종데이터(업로드)\\\\3.Test\\\\02.라벨링데이터\\\\image(단일)\\\\', 'Y:\\\\015.이미지 설명문 추출 및 생성용 한국형 비전 데이터\\\\08.최종산출물\\\\01-1.최종데이터(업로드)\\\\3.Test\\\\02.라벨링데이터\\\\라벨링 데이터\\\\image(단일)\\\\') for f in file_list]\n",
    "test_copy_list=[f.replace('_(4_1)', '_(4_3)') for f in test_copy_list]\n",
    "for i in tqdm(range(len(file_list))):\n",
    "    if os.path.exists(train_copy_list[i]):\n",
    "        shutil.copy(train_copy_list[i],file_copy_list[i])\n",
    "    elif os.path.exists(val_copy_list[i]):\n",
    "        shutil.copy(val_copy_list[i],file_copy_list[i])\n",
    "    elif os.path.exists(test_copy_list[i]):\n",
    "        shutil.copy(test_copy_list[i],file_copy_list[i])"
   ]
  },
  {
   "cell_type": "code",
   "execution_count": null,
   "metadata": {},
   "outputs": [],
   "source": [
    "file_list=glob('Y:\\\\013.객체 인식용 한국형 비전 데이터\\\\08.최종산출물\\\\01-1.최종데이터(업로드)\\\\3.Test\\\\02.라벨링데이터\\\\image(영상)\\\\**\\\\*.json')\n",
    "file_copy_list=[f.replace('Y:\\\\013.객체 인식용 한국형 비전 데이터\\\\08.최종산출물\\\\01-1.최종데이터(업로드)\\\\3.Test\\\\02.라벨링데이터\\\\image(영상)\\\\', '..\\\\..\\\\data\\\\15_label_data\\\\4_3\\\\') for f in file_list]\n",
    "file_copy_list=[f.replace('_(4_1)', '_(4_3)') for f in file_copy_list]\n",
    "train_copy_list=[f.replace('Y:\\\\013.객체 인식용 한국형 비전 데이터\\\\08.최종산출물\\\\01-1.최종데이터(업로드)\\\\3.Test\\\\02.라벨링데이터\\\\image(영상)\\\\', 'Y:\\\\015.이미지 설명문 추출 및 생성용 한국형 비전 데이터\\\\08.최종산출물\\\\01-1.최종데이터(업로드)\\\\1.Training\\\\02.라벨링데이터\\\\라벨링 데이터\\\\image(영상)\\\\') for f in file_list]\n",
    "train_copy_list=[f.replace('_(4_1)', '_(4_3)') for f in train_copy_list]\n",
    "val_copy_list=[f.replace('Y:\\\\013.객체 인식용 한국형 비전 데이터\\\\08.최종산출물\\\\01-1.최종데이터(업로드)\\\\3.Test\\\\02.라벨링데이터\\\\image(영상)\\\\', 'Y:\\\\015.이미지 설명문 추출 및 생성용 한국형 비전 데이터\\\\08.최종산출물\\\\01-1.최종데이터(업로드)\\\\2.Validation\\\\02.라벨링데이터\\\\라벨링 데이터\\\\image(영상)\\\\') for f in file_list]\n",
    "val_copy_list=[f.replace('_(4_1)', '_(4_3)') for f in val_copy_list]\n",
    "test_copy_list=[f.replace('Y:\\\\013.객체 인식용 한국형 비전 데이터\\\\08.최종산출물\\\\01-1.최종데이터(업로드)\\\\3.Test\\\\02.라벨링데이터\\\\image(영상)\\\\', 'Y:\\\\015.이미지 설명문 추출 및 생성용 한국형 비전 데이터\\\\08.최종산출물\\\\01-1.최종데이터(업로드)\\\\3.Test\\\\02.라벨링데이터\\\\라벨링 데이터\\\\image(영상)\\\\') for f in file_list]\n",
    "test_copy_list=[f.replace('_(4_1)', '_(4_3)') for f in test_copy_list]\n",
    "for i in tqdm(range(len(file_list))):\n",
    "    if os.path.exists(train_copy_list[i]):\n",
    "        shutil.copy(train_copy_list[i],file_copy_list[i])\n",
    "    elif os.path.exists(val_copy_list[i]):\n",
    "        shutil.copy(val_copy_list[i],file_copy_list[i])\n",
    "    elif os.path.exists(test_copy_list[i]):\n",
    "        shutil.copy(test_copy_list[i],file_copy_list[i])"
   ]
  },
  {
   "cell_type": "code",
   "execution_count": null,
   "metadata": {},
   "outputs": [],
   "source": [
    "os.path.exists(test_copy_list[i])"
   ]
  }
 ],
 "metadata": {
  "kernelspec": {
   "display_name": "LeeYS",
   "language": "python",
   "name": "python3"
  },
  "language_info": {
   "codemirror_mode": {
    "name": "ipython",
    "version": 3
   },
   "file_extension": ".py",
   "mimetype": "text/x-python",
   "name": "python",
   "nbconvert_exporter": "python",
   "pygments_lexer": "ipython3",
   "version": "3.6.12"
  }
 },
 "nbformat": 4,
 "nbformat_minor": 2
}
