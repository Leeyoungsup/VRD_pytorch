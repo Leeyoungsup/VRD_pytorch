{
 "cells": [
  {
   "cell_type": "code",
   "execution_count": 1,
   "metadata": {},
   "outputs": [
    {
     "name": "stdout",
     "output_type": "stream",
     "text": [
      "Bucket 'asiatrip' already exists\n"
     ]
    }
   ],
   "source": [
    "from minio import Minio\n",
    "from minio.error import S3Error\n",
    "client = Minio(\n",
    "        \"kr.object.ncloudstorage.com\",\n",
    "        access_key=\"7198C73E119FD894F983\",\n",
    "        secret_key=\"F9B8B9E9A24C7757E49CC4957DA3FC9B47027C43\"\n",
    "    )\n",
    "\n",
    "# Make 'asiatrip' bucket if not exist.\n",
    "found = client.bucket_exists(\"aidata-2022-01-004\")\n",
    "if not found:\n",
    "    client.make_bucket(\"aidata-2022-01-004\")\n",
    "else:\n",
    "    print(\"Bucket 'asiatrip' already exists\")"
   ]
  },
  {
   "cell_type": "code",
   "execution_count": 10,
   "metadata": {},
   "outputs": [
    {
     "ename": "TypeError",
     "evalue": "'Object' object is not callable",
     "output_type": "error",
     "traceback": [
      "\u001b[0;31m---------------------------------------------------------------------------\u001b[0m",
      "\u001b[0;31mTypeError\u001b[0m                                 Traceback (most recent call last)",
      "\u001b[1;32m/home/gil/gcubme_ai2/Workspace/YS_Lee/VRD_urban/code/VRD_pytorch-1/s3_connect.ipynb 셀 2\u001b[0m line \u001b[0;36m3\n\u001b[1;32m      <a href='vscode-notebook-cell://ssh-remote%2B7b22686f73744e616d65223a2231302e322e35322e3638222c2275736572223a2267696c227d/home/gil/gcubme_ai2/Workspace/YS_Lee/VRD_urban/code/VRD_pytorch-1/s3_connect.ipynb#W1sdnNjb2RlLXJlbW90ZQ%3D%3D?line=0'>1</a>\u001b[0m \u001b[39mobject\u001b[39m\u001b[39m=\u001b[39mclient\u001b[39m.\u001b[39mlist_objects(\u001b[39m\"\u001b[39m\u001b[39maidata-2022-01-004\u001b[39m\u001b[39m\"\u001b[39m)\n\u001b[1;32m      <a href='vscode-notebook-cell://ssh-remote%2B7b22686f73744e616d65223a2231302e322e35322e3638222c2275736572223a2267696c227d/home/gil/gcubme_ai2/Workspace/YS_Lee/VRD_urban/code/VRD_pytorch-1/s3_connect.ipynb#W1sdnNjb2RlLXJlbW90ZQ%3D%3D?line=1'>2</a>\u001b[0m \u001b[39mfor\u001b[39;00m obj \u001b[39min\u001b[39;00m \u001b[39mobject\u001b[39m:\n\u001b[0;32m----> <a href='vscode-notebook-cell://ssh-remote%2B7b22686f73744e616d65223a2231302e322e35322e3638222c2275736572223a2267696c227d/home/gil/gcubme_ai2/Workspace/YS_Lee/VRD_urban/code/VRD_pytorch-1/s3_connect.ipynb#W1sdnNjb2RlLXJlbW90ZQ%3D%3D?line=2'>3</a>\u001b[0m     \u001b[39mprint\u001b[39m(obj())\n",
      "\u001b[0;31mTypeError\u001b[0m: 'Object' object is not callable"
     ]
    }
   ],
   "source": [
    "object=client.list_objects(\"aidata-2022-01-004\")\n",
    "for obj in object:\n",
    "    print(obj)"
   ]
  }
 ],
 "metadata": {
  "kernelspec": {
   "display_name": "LeeYS",
   "language": "python",
   "name": "python3"
  },
  "language_info": {
   "codemirror_mode": {
    "name": "ipython",
    "version": 3
   },
   "file_extension": ".py",
   "mimetype": "text/x-python",
   "name": "python",
   "nbconvert_exporter": "python",
   "pygments_lexer": "ipython3",
   "version": "3.9.0"
  }
 },
 "nbformat": 4,
 "nbformat_minor": 2
}
