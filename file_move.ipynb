{
 "cells": [
  {
   "cell_type": "code",
   "execution_count": 7,
   "metadata": {},
   "outputs": [],
   "source": [
    "from glob import glob\n",
    "import os\n",
    "import shutil\n",
    "from tqdm.auto import tqdm"
   ]
  },
  {
   "cell_type": "code",
   "execution_count": 8,
   "metadata": {},
   "outputs": [],
   "source": [
    "json_list=glob('../../data/4_3/**/*.json')\n",
    "json_list1=glob('../../data/4_3/**/**/*.json')\n",
    "move_path='../../data/4_3/'\n",
    "for i in tqdm(range(len(json_list))):\n",
    "    file_name=os.path.basename(json_list[i]) \n",
    "    shutil.move(json_list[i],move_path+file_name)\n",
    "for i in tqdm(range(len(json_list1))):\n",
    "    file_name=os.path.basename(json_list1[i]) \n",
    "    shutil.move(json_list1[i],move_path+file_name)"
   ]
  },
  {
   "cell_type": "code",
   "execution_count": 11,
   "metadata": {},
   "outputs": [
    {
     "data": {
      "application/vnd.jupyter.widget-view+json": {
       "model_id": "62016bcf6cdc405c9af212f0e2e49ea0",
       "version_major": 2,
       "version_minor": 0
      },
      "text/plain": [
       "  0%|          | 0/277182 [00:00<?, ?it/s]"
      ]
     },
     "metadata": {},
     "output_type": "display_data"
    },
    {
     "data": {
      "application/vnd.jupyter.widget-view+json": {
       "model_id": "5c5ea15b144240ab83a0705603f8efae",
       "version_major": 2,
       "version_minor": 0
      },
      "text/plain": [
       "  0%|          | 0/62764 [00:00<?, ?it/s]"
      ]
     },
     "metadata": {},
     "output_type": "display_data"
    }
   ],
   "source": [
    "json_list=glob('../../data/4_1/**/*.json')\n",
    "json_list1=glob('../../data/4_1/**/**/*.json')\n",
    "move_path='../../data/4_1/'\n",
    "for i in tqdm(range(len(json_list))):\n",
    "    file_name=os.path.basename(json_list[i]) \n",
    "    shutil.move(json_list[i],move_path+file_name)\n",
    "for i in tqdm(range(len(json_list1))):\n",
    "    file_name=os.path.basename(json_list1[i]) \n",
    "    shutil.move(json_list1[i],move_path+file_name)"
   ]
  },
  {
   "cell_type": "code",
   "execution_count": 10,
   "metadata": {},
   "outputs": [
    {
     "data": {
      "application/vnd.jupyter.widget-view+json": {
       "model_id": "6d4bca91ee724d42a52adc2e776ae93e",
       "version_major": 2,
       "version_minor": 0
      },
      "text/plain": [
       "  0%|          | 0/264076 [00:00<?, ?it/s]"
      ]
     },
     "metadata": {},
     "output_type": "display_data"
    },
    {
     "data": {
      "application/vnd.jupyter.widget-view+json": {
       "model_id": "549bb6d5c27346949c41e22afb02e3cd",
       "version_major": 2,
       "version_minor": 0
      },
      "text/plain": [
       "  0%|          | 0/57317 [00:00<?, ?it/s]"
      ]
     },
     "metadata": {},
     "output_type": "display_data"
    }
   ],
   "source": [
    "json_list=glob('../../data/4_4/**/*.json')\n",
    "json_list1=glob('../../data/4_4/**/**/*.json')\n",
    "move_path='../../data/4_4/'\n",
    "for i in tqdm(range(len(json_list))):\n",
    "    file_name=os.path.basename(json_list[i]) \n",
    "    shutil.move(json_list[i],move_path+file_name)\n",
    "for i in tqdm(range(len(json_list1))):\n",
    "    file_name=os.path.basename(json_list1[i]) \n",
    "    shutil.move(json_list1[i],move_path+file_name)"
   ]
  }
 ],
 "metadata": {
  "kernelspec": {
   "display_name": "LeeYS",
   "language": "python",
   "name": "python3"
  },
  "language_info": {
   "codemirror_mode": {
    "name": "ipython",
    "version": 3
   },
   "file_extension": ".py",
   "mimetype": "text/x-python",
   "name": "python",
   "nbconvert_exporter": "python",
   "pygments_lexer": "ipython3",
   "version": "3.9.0"
  }
 },
 "nbformat": 4,
 "nbformat_minor": 2
}
